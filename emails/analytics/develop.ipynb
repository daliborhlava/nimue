{
 "cells": [
  {
   "cell_type": "code",
   "execution_count": 2,
   "metadata": {},
   "outputs": [
    {
     "name": "stdout",
     "output_type": "stream",
     "text": [
      "oznameni@aukro.com\n"
     ]
    }
   ],
   "source": [
    "import re\n",
    "name = \"1-11-2011_oznameni@aukro.com__Byl_ udělen nový komentář xxxx (Pozitivní).txt\"\n",
    "\n",
    "from_email = \"\"\n",
    "email_pattern = r\"_\\s*_?(?P<email>[\\w._+-]+@([\\w_-]+\\.)+[a-zA-Z]{2,63})\\s*_\"\n",
    "match = re.search(email_pattern, name)\n",
    "\n",
    "if match:\n",
    "    from_email = match.group(1)\n",
    "else:\n",
    "    print(\"No from email found - adjust regex / fix naming options\")\n",
    "\n",
    "print(from_email)"
   ]
  },
  {
   "cell_type": "code",
   "execution_count": 17,
   "metadata": {},
   "outputs": [],
   "source": [
    "ingest_dir = 'something'\n",
    "\n",
    "from pathlib import Path\n",
    "\n",
    "#file_list = [f.resolve() for f in Path(\"C:\\\\Root\\\\nimue\\\\data\\\\\").glob('**/*.txt')]\n",
    "g=Path(ingest_dir).glob('**/*.txt')\n",
    "\n",
    "file_list = [f for f in g]\n",
    "file_list[0].as_posix()\n",
    "\n",
    "for f in file_list:\n",
    "    print(f)\n",
    "    print(f.name)\n",
    "    break"
   ]
  }
 ],
 "metadata": {
  "kernelspec": {
   "display_name": "base",
   "language": "python",
   "name": "python3"
  },
  "language_info": {
   "codemirror_mode": {
    "name": "ipython",
    "version": 3
   },
   "file_extension": ".py",
   "mimetype": "text/x-python",
   "name": "python",
   "nbconvert_exporter": "python",
   "pygments_lexer": "ipython3",
   "version": "3.12.2"
  }
 },
 "nbformat": 4,
 "nbformat_minor": 2
}
