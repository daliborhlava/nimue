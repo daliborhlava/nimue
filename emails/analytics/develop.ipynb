{
 "cells": [
  {
   "cell_type": "markdown",
   "metadata": {},
   "source": [
    "## Email Regex"
   ]
  },
  {
   "cell_type": "code",
   "execution_count": null,
   "metadata": {},
   "outputs": [],
   "source": [
    "import re\n",
    "name = \"1-11-2011_oznameni@aukro.com__Byl_ udělen nový komentář xxxx (Pozitivní).txt\"\n",
    "\n",
    "from_email = \"\"\n",
    "email_pattern = r\"_\\s*_?(?P<email>[\\w._+-]+@([\\w_-]+\\.)+[a-zA-Z]{2,63})\\s*_\"\n",
    "match = re.search(email_pattern, name)\n",
    "\n",
    "if match:\n",
    "    from_email = match.group(1)\n",
    "else:\n",
    "    print(\"No from email found - adjust regex / fix naming options\")\n",
    "\n",
    "print(from_email)"
   ]
  },
  {
   "cell_type": "markdown",
   "metadata": {},
   "source": [
    "## Glob"
   ]
  },
  {
   "cell_type": "code",
   "execution_count": null,
   "metadata": {},
   "outputs": [],
   "source": [
    "ingest_dir = 'path'\n",
    "\n",
    "from pathlib import Path\n",
    "\n",
    "#file_list = [f.resolve() for f in Path(\"C:\\\\Root\\\\nimue\\\\data\\\\\").glob('**/*.txt')]\n",
    "g=Path(ingest_dir).glob('**/*.txt')\n",
    "\n",
    "file_list = [f for f in g]\n",
    "file_list[0].as_posix()\n",
    "\n",
    "for f in file_list:\n",
    "    print(f)\n",
    "    print(f.name)\n",
    "    break"
   ]
  },
  {
   "cell_type": "markdown",
   "metadata": {},
   "source": [
    "## Compare two folders"
   ]
  },
  {
   "cell_type": "code",
   "execution_count": null,
   "metadata": {},
   "outputs": [],
   "source": [
    "d1 = 'path_1'\n",
    "d2 = 'path_2'\n",
    "\n",
    "from pathlib import Path\n",
    "\n",
    "d1_l = [f.name for f in Path(d1).glob('**/*.txt')]\n",
    "d2_l = [f.name for f in Path(d2).glob('**/*.txt')]\n",
    "\n",
    "match = 0\n",
    "no_match = 0\n",
    "\n",
    "for f in d1_l:\n",
    "    if f in d2_l:\n",
    "        match += 1\n",
    "    else:\n",
    "        no_match += 1\n",
    "\n",
    "print(f\"Match: {match}, No Match: {no_match}\")\n"
   ]
  }
 ],
 "metadata": {
  "kernelspec": {
   "display_name": "base",
   "language": "python",
   "name": "python3"
  },
  "language_info": {
   "codemirror_mode": {
    "name": "ipython",
    "version": 3
   },
   "file_extension": ".py",
   "mimetype": "text/x-python",
   "name": "python",
   "nbconvert_exporter": "python",
   "pygments_lexer": "ipython3",
   "version": "3.12.2"
  }
 },
 "nbformat": 4,
 "nbformat_minor": 2
}
